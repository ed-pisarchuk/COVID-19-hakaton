{
 "cells": [
  {
   "cell_type": "code",
   "execution_count": 31,
   "metadata": {},
   "outputs": [],
   "source": [
    "import pandas as pd \n",
    "from bs4 import BeautifulSoup as bs\n",
    "import requests\n",
    "from pprint import pprint\n",
    "import pandas as pd\n",
    "import unicodedata"
   ]
  },
  {
   "cell_type": "code",
   "execution_count": 51,
   "metadata": {},
   "outputs": [
    {
     "name": "stdout",
     "output_type": "stream",
     "text": [
      "  Country name[5] Alpha-2 code[5]\n",
      "2     Afghanistan              AF\n",
      "4   Åland Islands              AX\n",
      "5         Albania              AL\n"
     ]
    }
   ],
   "source": [
    "main_link = 'https://en.wikipedia.org/wiki/List_of_ISO_3166_country_codes'\n",
    "r = requests.get(main_link)\n",
    "soup = bs(r.text, \"lxml\")\n",
    "data = []\n",
    "columns_names = []\n",
    "\n",
    "line = soup.find(\"table\",{\"class\": \"wikitable sortable\"}).find('tbody').find_all('tr')\n",
    "for row in line:\n",
    "    cols = row.find_all('td')\n",
    "    cols = [ele.text.strip() for ele in cols]\n",
    "    data.append([ele for ele in cols if ele])\n",
    "line = soup.find(\"table\",{\"class\": \"wikitable sortable\"}).find('tbody').find_all('tr')\n",
    "for row in line:\n",
    "    cols = row.find_all('th')\n",
    "    cols = [ele.text.strip() for ele in cols]\n",
    "    columns_names.append([ele for ele in cols if ele])\n",
    "\n",
    "columns_names = (pd.DataFrame(columns_names).dropna()).values.tolist()[0]\n",
    "ISO_contry_codes = pd.DataFrame(data, columns = columns_names).dropna()[['Country name[5]', 'Alpha-2 code[5]']]\n",
    "print(ISO_contry_codes.head(3))"
   ]
  },
  {
   "cell_type": "code",
   "execution_count": 52,
   "metadata": {},
   "outputs": [],
   "source": [
    "ISO_contry_codes.columns = ['country', 'ISO-3166_countr_code']"
   ]
  },
  {
   "cell_type": "code",
   "execution_count": 54,
   "metadata": {},
   "outputs": [
    {
     "data": {
      "text/html": [
       "<div>\n",
       "<style scoped>\n",
       "    .dataframe tbody tr th:only-of-type {\n",
       "        vertical-align: middle;\n",
       "    }\n",
       "\n",
       "    .dataframe tbody tr th {\n",
       "        vertical-align: top;\n",
       "    }\n",
       "\n",
       "    .dataframe thead th {\n",
       "        text-align: right;\n",
       "    }\n",
       "</style>\n",
       "<table border=\"1\" class=\"dataframe\">\n",
       "  <thead>\n",
       "    <tr style=\"text-align: right;\">\n",
       "      <th></th>\n",
       "      <th>country</th>\n",
       "      <th>ISO-3166_countr_code</th>\n",
       "    </tr>\n",
       "  </thead>\n",
       "  <tbody>\n",
       "    <tr>\n",
       "      <th>0</th>\n",
       "      <td>Afghanistan</td>\n",
       "      <td>AF</td>\n",
       "    </tr>\n",
       "    <tr>\n",
       "      <th>1</th>\n",
       "      <td>Aland Islands</td>\n",
       "      <td>AX</td>\n",
       "    </tr>\n",
       "    <tr>\n",
       "      <th>2</th>\n",
       "      <td>Albania</td>\n",
       "      <td>AL</td>\n",
       "    </tr>\n",
       "    <tr>\n",
       "      <th>3</th>\n",
       "      <td>Algeria</td>\n",
       "      <td>DZ</td>\n",
       "    </tr>\n",
       "    <tr>\n",
       "      <th>4</th>\n",
       "      <td>American Samoa</td>\n",
       "      <td>AS</td>\n",
       "    </tr>\n",
       "  </tbody>\n",
       "</table>\n",
       "</div>"
      ],
      "text/plain": [
       "          country ISO-3166_countr_code\n",
       "0     Afghanistan                   AF\n",
       "1   Aland Islands                   AX\n",
       "2         Albania                   AL\n",
       "3         Algeria                   DZ\n",
       "4  American Samoa                   AS"
      ]
     },
     "execution_count": 54,
     "metadata": {},
     "output_type": "execute_result"
    }
   ],
   "source": [
    "#Unicode нормализация специальных символов\n",
    "ISO_contry_codes.country = ISO_contry_codes.country.apply(lambda x: ''.join((c for c in unicodedata.normalize('NFKD', x) if unicodedata.category(c) != 'Mn')))\n",
    "ISO_contry_codes = ISO_contry_codes.reset_index(drop=True)\n",
    "ISO_contry_codes.head()"
   ]
  },
  {
   "cell_type": "code",
   "execution_count": 55,
   "metadata": {},
   "outputs": [],
   "source": [
    "ISO_contry_codes.to_csv('ISO_contry_codes.csv')"
   ]
  },
  {
   "cell_type": "code",
   "execution_count": 59,
   "metadata": {},
   "outputs": [
    {
     "name": "stdout",
     "output_type": "stream",
     "text": [
      "hi\n",
      "5555\n"
     ]
    }
   ],
   "source": [
    "import time\n",
    "print(\"hi\")\n",
    "\n",
    "time.sleep(60)\n",
    "\n",
    "print(5555)"
   ]
  },
  {
   "cell_type": "code",
   "execution_count": null,
   "metadata": {},
   "outputs": [],
   "source": []
  }
 ],
 "metadata": {
  "kernelspec": {
   "display_name": "Python 3",
   "language": "python",
   "name": "python3"
  },
  "language_info": {
   "codemirror_mode": {
    "name": "ipython",
    "version": 3
   },
   "file_extension": ".py",
   "mimetype": "text/x-python",
   "name": "python",
   "nbconvert_exporter": "python",
   "pygments_lexer": "ipython3",
   "version": "3.8.5"
  }
 },
 "nbformat": 4,
 "nbformat_minor": 4
}
